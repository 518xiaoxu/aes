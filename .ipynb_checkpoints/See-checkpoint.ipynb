{
 "cells": [
  {
   "cell_type": "code",
   "execution_count": 55,
   "id": "6d31d3d9-4336-4d31-8e01-a947b093eef7",
   "metadata": {},
   "outputs": [],
   "source": [
    "import pandas as pd\n",
    "df=pd.read_csv('../../data/AES/fold0/val_qwen2.5-7b_full_sft_3epoch.csv')"
   ]
  },
  {
   "cell_type": "code",
   "execution_count": 56,
   "id": "080829db-055d-4147-b84d-43cfd0d50cea",
   "metadata": {},
   "outputs": [
    {
     "data": {
      "text/html": [
       "<div>\n",
       "<style scoped>\n",
       "    .dataframe tbody tr th:only-of-type {\n",
       "        vertical-align: middle;\n",
       "    }\n",
       "\n",
       "    .dataframe tbody tr th {\n",
       "        vertical-align: top;\n",
       "    }\n",
       "\n",
       "    .dataframe thead th {\n",
       "        text-align: right;\n",
       "    }\n",
       "</style>\n",
       "<table border=\"1\" class=\"dataframe\">\n",
       "  <thead>\n",
       "    <tr style=\"text-align: right;\">\n",
       "      <th></th>\n",
       "      <th>essay_id</th>\n",
       "      <th>full_text</th>\n",
       "      <th>score</th>\n",
       "      <th>truncated_text</th>\n",
       "      <th>fold</th>\n",
       "      <th>pred</th>\n",
       "      <th>reason</th>\n",
       "    </tr>\n",
       "  </thead>\n",
       "  <tbody>\n",
       "    <tr>\n",
       "      <th>0</th>\n",
       "      <td>000d118</td>\n",
       "      <td>Many people have car where they live. The thin...</td>\n",
       "      <td>3</td>\n",
       "      <td>Many people have car where they live. The thin...</td>\n",
       "      <td>3</td>\n",
       "      <td>1. Mastery: 4/6 - The essay shows a good under...</td>\n",
       "      <td>\\n1. Mastery: The essay demonstrates a good un...</td>\n",
       "    </tr>\n",
       "    <tr>\n",
       "      <th>1</th>\n",
       "      <td>001ab80</td>\n",
       "      <td>People always wish they had the same technolog...</td>\n",
       "      <td>4</td>\n",
       "      <td>People always wish they had the same technolog...</td>\n",
       "      <td>4</td>\n",
       "      <td>1\\n2The essay effectively communicates the aut...</td>\n",
       "      <td>\\n1. Mastery: The essay demonstrates a good un...</td>\n",
       "    </tr>\n",
       "    <tr>\n",
       "      <th>2</th>\n",
       "      <td>001bdc0</td>\n",
       "      <td>We all heard about Venus, the planet without a...</td>\n",
       "      <td>4</td>\n",
       "      <td>We all heard about Venus, the planet without a...</td>\n",
       "      <td>1</td>\n",
       "      <td>1. Mastery: The essay demonstrates a strong un...</td>\n",
       "      <td>\\n1. **Mastery**: The essay discusses the cond...</td>\n",
       "    </tr>\n",
       "    <tr>\n",
       "      <th>3</th>\n",
       "      <td>002ba53</td>\n",
       "      <td>Dear, State Senator\\n\\nThis is a letter to arg...</td>\n",
       "      <td>3</td>\n",
       "      <td>Dear, State Senator\\n\\nThis is a letter to arg...</td>\n",
       "      <td>1</td>\n",
       "      <td>1. Mastery: The essay shows a good understandi...</td>\n",
       "      <td>\\n1. **Mastery**: The essay demonstrates a goo...</td>\n",
       "    </tr>\n",
       "    <tr>\n",
       "      <th>4</th>\n",
       "      <td>0030e86</td>\n",
       "      <td>If I were to choose between keeping the electo...</td>\n",
       "      <td>4</td>\n",
       "      <td>If I were to choose between keeping the electo...</td>\n",
       "      <td>3</td>\n",
       "      <td>1. Mastery: The essay demonstrates a clear und...</td>\n",
       "      <td>\\n1. **Mastery**: The essay demonstrates a cle...</td>\n",
       "    </tr>\n",
       "    <tr>\n",
       "      <th>...</th>\n",
       "      <td>...</td>\n",
       "      <td>...</td>\n",
       "      <td>...</td>\n",
       "      <td>...</td>\n",
       "      <td>...</td>\n",
       "      <td>...</td>\n",
       "      <td>...</td>\n",
       "    </tr>\n",
       "    <tr>\n",
       "      <th>13840</th>\n",
       "      <td>ffcb061</td>\n",
       "      <td>Becoming a Seagoing Cowboy is a once in a life...</td>\n",
       "      <td>3</td>\n",
       "      <td>Becoming a Seagoing Cowboy is a once in a life...</td>\n",
       "      <td>2</td>\n",
       "      <td>1. Mastery: 4/6 - The essay demonstrates a goo...</td>\n",
       "      <td>\\n1. Mastery: The essay demonstrates a good un...</td>\n",
       "    </tr>\n",
       "    <tr>\n",
       "      <th>13841</th>\n",
       "      <td>ffd378d</td>\n",
       "      <td>the story \" The Challenge of Exploing Venus \" ...</td>\n",
       "      <td>2</td>\n",
       "      <td>the story \" The Challenge of Exploing Venus \" ...</td>\n",
       "      <td>1</td>\n",
       "      <td>1. Mastery: 4/6 - The essay provides a good ov...</td>\n",
       "      <td>\\n1. Mastery: The essay provides a detailed an...</td>\n",
       "    </tr>\n",
       "    <tr>\n",
       "      <th>13842</th>\n",
       "      <td>ffddf1f</td>\n",
       "      <td>Technology has changed a lot of ways that we l...</td>\n",
       "      <td>4</td>\n",
       "      <td>Technology has changed a lot of ways that we l...</td>\n",
       "      <td>3</td>\n",
       "      <td>1. Mastery: The essay demonstrates a good unde...</td>\n",
       "      <td>\\n1. **Mastery**: The essay demonstrates a goo...</td>\n",
       "    </tr>\n",
       "    <tr>\n",
       "      <th>13843</th>\n",
       "      <td>fff016d</td>\n",
       "      <td>If you don't like sitting around all day than ...</td>\n",
       "      <td>2</td>\n",
       "      <td>If you don't like sitting around all day than ...</td>\n",
       "      <td>4</td>\n",
       "      <td>1. **Mastery**: The essay shows a good underst...</td>\n",
       "      <td>\\n1. **Mastery**: The essay demonstrates a goo...</td>\n",
       "    </tr>\n",
       "    <tr>\n",
       "      <th>13844</th>\n",
       "      <td>fffb49b</td>\n",
       "      <td>In \"The Challenge of Exporing Venus,\" the auth...</td>\n",
       "      <td>1</td>\n",
       "      <td>In \"The Challenge of Exporing Venus,\" the auth...</td>\n",
       "      <td>2</td>\n",
       "      <td>1. Mastery: High\\n2. Point of View: Balanced a...</td>\n",
       "      <td>\\n1. **Mastery**: The essay demonstrates a hig...</td>\n",
       "    </tr>\n",
       "  </tbody>\n",
       "</table>\n",
       "<p>13845 rows × 7 columns</p>\n",
       "</div>"
      ],
      "text/plain": [
       "      essay_id                                          full_text  score  \\\n",
       "0      000d118  Many people have car where they live. The thin...      3   \n",
       "1      001ab80  People always wish they had the same technolog...      4   \n",
       "2      001bdc0  We all heard about Venus, the planet without a...      4   \n",
       "3      002ba53  Dear, State Senator\\n\\nThis is a letter to arg...      3   \n",
       "4      0030e86  If I were to choose between keeping the electo...      4   \n",
       "...        ...                                                ...    ...   \n",
       "13840  ffcb061  Becoming a Seagoing Cowboy is a once in a life...      3   \n",
       "13841  ffd378d  the story \" The Challenge of Exploing Venus \" ...      2   \n",
       "13842  ffddf1f  Technology has changed a lot of ways that we l...      4   \n",
       "13843  fff016d  If you don't like sitting around all day than ...      2   \n",
       "13844  fffb49b  In \"The Challenge of Exporing Venus,\" the auth...      1   \n",
       "\n",
       "                                          truncated_text  fold  \\\n",
       "0      Many people have car where they live. The thin...     3   \n",
       "1      People always wish they had the same technolog...     4   \n",
       "2      We all heard about Venus, the planet without a...     1   \n",
       "3      Dear, State Senator\\n\\nThis is a letter to arg...     1   \n",
       "4      If I were to choose between keeping the electo...     3   \n",
       "...                                                  ...   ...   \n",
       "13840  Becoming a Seagoing Cowboy is a once in a life...     2   \n",
       "13841  the story \" The Challenge of Exploing Venus \" ...     1   \n",
       "13842  Technology has changed a lot of ways that we l...     3   \n",
       "13843  If you don't like sitting around all day than ...     4   \n",
       "13844  In \"The Challenge of Exporing Venus,\" the auth...     2   \n",
       "\n",
       "                                                    pred  \\\n",
       "0      1. Mastery: 4/6 - The essay shows a good under...   \n",
       "1      1\\n2The essay effectively communicates the aut...   \n",
       "2      1. Mastery: The essay demonstrates a strong un...   \n",
       "3      1. Mastery: The essay shows a good understandi...   \n",
       "4      1. Mastery: The essay demonstrates a clear und...   \n",
       "...                                                  ...   \n",
       "13840  1. Mastery: 4/6 - The essay demonstrates a goo...   \n",
       "13841  1. Mastery: 4/6 - The essay provides a good ov...   \n",
       "13842  1. Mastery: The essay demonstrates a good unde...   \n",
       "13843  1. **Mastery**: The essay shows a good underst...   \n",
       "13844  1. Mastery: High\\n2. Point of View: Balanced a...   \n",
       "\n",
       "                                                  reason  \n",
       "0      \\n1. Mastery: The essay demonstrates a good un...  \n",
       "1      \\n1. Mastery: The essay demonstrates a good un...  \n",
       "2      \\n1. **Mastery**: The essay discusses the cond...  \n",
       "3      \\n1. **Mastery**: The essay demonstrates a goo...  \n",
       "4      \\n1. **Mastery**: The essay demonstrates a cle...  \n",
       "...                                                  ...  \n",
       "13840  \\n1. Mastery: The essay demonstrates a good un...  \n",
       "13841  \\n1. Mastery: The essay provides a detailed an...  \n",
       "13842  \\n1. **Mastery**: The essay demonstrates a goo...  \n",
       "13843  \\n1. **Mastery**: The essay demonstrates a goo...  \n",
       "13844  \\n1. **Mastery**: The essay demonstrates a hig...  \n",
       "\n",
       "[13845 rows x 7 columns]"
      ]
     },
     "execution_count": 56,
     "metadata": {},
     "output_type": "execute_result"
    }
   ],
   "source": [
    "df"
   ]
  },
  {
   "cell_type": "code",
   "execution_count": 46,
   "id": "bfc898bd-9b09-41ad-96e7-86c546de5e8a",
   "metadata": {},
   "outputs": [],
   "source": [
    "df=df[df['pred']!=df['score']]"
   ]
  },
  {
   "cell_type": "code",
   "execution_count": 47,
   "id": "3c91b8e7-e0b1-4b28-86fd-a496f9b50830",
   "metadata": {},
   "outputs": [
    {
     "data": {
      "text/plain": [
       "1287"
      ]
     },
     "execution_count": 47,
     "metadata": {},
     "output_type": "execute_result"
    }
   ],
   "source": [
    "len(df['pred'])"
   ]
  },
  {
   "cell_type": "code",
   "execution_count": 63,
   "id": "d6033121-3cb5-4e3e-b712-55cc2cce252c",
   "metadata": {},
   "outputs": [
    {
     "data": {
      "text/plain": [
       "13845"
      ]
     },
     "execution_count": 63,
     "metadata": {},
     "output_type": "execute_result"
    }
   ],
   "source": [
    "df=pd.read_csv('../../data/AES/fold0/train_Qwen2.5-72B-Instruct.csv')\n",
    "len(df)"
   ]
  },
  {
   "cell_type": "code",
   "execution_count": 193,
   "id": "914eb957-17dc-4831-aea9-46f119fcb745",
   "metadata": {},
   "outputs": [],
   "source": [
    "gt=pd.read_csv('../../data/AES/fold0/val_Qwen2.5-72B-Instruct.csv')\n",
    "gt=gt[gt['pred_gt'].apply(lambda x:str(x).replace('\\n','').strip())==gt['score'].apply(lambda x:str(x))]\n",
    "gt['preferred']=gt['reason_gt']"
   ]
  },
  {
   "cell_type": "code",
   "execution_count": 195,
   "id": "d7461b2a-1520-44d3-9ae4-308c94298fb8",
   "metadata": {},
   "outputs": [],
   "source": [
    "\n",
    "full=pd.read_csv('../../data/AES/fold0/val_qwen2.5-7b_full_sft_3epoch.csv')\n",
    "full=full[full['pred']!=full['score']]\n",
    "lora=pd.read_csv('../../data/AES/fold0/val_qwen2.5-7b_lora_sft_1epoch.csv')\n",
    "lora=lora[lora['pred']!=lora['score']]\n",
    "# b7=pd.read_csv('../../data/AES/fold0/val_Qwen2.5-7B-Instruct.csv')\n",
    "# b7=b7[b7['pred']!=b7['score']]"
   ]
  },
  {
   "cell_type": "code",
   "execution_count": 186,
   "id": "fcd0d6d0-7f19-4086-a6da-6967386a77b0",
   "metadata": {},
   "outputs": [],
   "source": [
    "def update_rejected(gt: pd.DataFrame, *sources: pd.DataFrame) -> pd.DataFrame:\n",
    "    \"\"\"\n",
    "    将多个 source DataFrame 中的 reason 按 essay_id 映射到 gt['rejected']。\n",
    "    后面的 source 不会覆盖前面已填充的 rejected 值。\n",
    "    \n",
    "    Parameters:\n",
    "    - gt: 目标 DataFrame，包含 'essay_id' 和 'rejected' 列\n",
    "    - *sources: 任意个包含 'essay_id' 和 'reason' 列的 DataFrame\n",
    "    \n",
    "    Returns:\n",
    "    - 更新后的 gt（原地更新，也返回以便链式使用）\n",
    "    \"\"\"\n",
    "    if 'rejected' not in gt.columns:\n",
    "        gt['rejected'] = None\n",
    "\n",
    "    filled_ids = set(gt.loc[gt['rejected'].notna(), 'essay_id'])\n",
    "\n",
    "    for src in sources:\n",
    "        # 过滤出尚未填过 rejected 的 essay_id\n",
    "        src_filtered = src[~src['essay_id'].isin(filled_ids)]\n",
    "\n",
    "        # 构建映射并更新\n",
    "        reason_map = dict(zip(src_filtered['essay_id'], src_filtered['reason']))\n",
    "        mask = gt['essay_id'].isin(reason_map.keys())\n",
    "        gt.loc[mask, 'rejected'] = gt.loc[mask, 'essay_id'].map(reason_map)\n",
    "\n",
    "        # 更新已填的 id\n",
    "        filled_ids.update(reason_map.keys())\n",
    "\n",
    "    return gt"
   ]
  },
  {
   "cell_type": "code",
   "execution_count": 196,
   "id": "18f29fd1-a0a1-4818-8139-950533420009",
   "metadata": {},
   "outputs": [],
   "source": [
    "\n",
    "\n",
    "# 更新 rejected\n",
    "gt = update_rejected(gt, full, lora)\n",
    "\n",
    "# 后续你还可以继续：\n",
    "# gt = update_rejected(gt, another_source1, another_source2)"
   ]
  },
  {
   "cell_type": "code",
   "execution_count": 190,
   "id": "82051379-2e6f-46b8-8a2d-414bf4db6d70",
   "metadata": {
    "collapsed": true,
    "jupyter": {
     "outputs_hidden": true
    }
   },
   "outputs": [
    {
     "data": {
      "text/html": [
       "<div>\n",
       "<style scoped>\n",
       "    .dataframe tbody tr th:only-of-type {\n",
       "        vertical-align: middle;\n",
       "    }\n",
       "\n",
       "    .dataframe tbody tr th {\n",
       "        vertical-align: top;\n",
       "    }\n",
       "\n",
       "    .dataframe thead th {\n",
       "        text-align: right;\n",
       "    }\n",
       "</style>\n",
       "<table border=\"1\" class=\"dataframe\">\n",
       "  <thead>\n",
       "    <tr style=\"text-align: right;\">\n",
       "      <th></th>\n",
       "      <th>essay_id</th>\n",
       "      <th>full_text</th>\n",
       "      <th>score</th>\n",
       "      <th>truncated_text</th>\n",
       "      <th>fold</th>\n",
       "      <th>pred</th>\n",
       "      <th>reason</th>\n",
       "      <th>pred_gt</th>\n",
       "      <th>reason_gt</th>\n",
       "      <th>preferred</th>\n",
       "      <th>rejected</th>\n",
       "    </tr>\n",
       "  </thead>\n",
       "  <tbody>\n",
       "  </tbody>\n",
       "</table>\n",
       "</div>"
      ],
      "text/plain": [
       "Empty DataFrame\n",
       "Columns: [essay_id, full_text, score, truncated_text, fold, pred, reason, pred_gt, reason_gt, preferred, rejected]\n",
       "Index: []"
      ]
     },
     "execution_count": 190,
     "metadata": {},
     "output_type": "execute_result"
    }
   ],
   "source": [
    "gt.to_csv('../../data/AES/fold0/dpo_val_v1.csv')"
   ]
  },
  {
   "cell_type": "code",
   "execution_count": 191,
   "id": "b087627e-a413-41ee-a98d-66113d6ecacf",
   "metadata": {},
   "outputs": [],
   "source": [
    "gt.to_csv('../../data/AES/fold0/dpo_train_v1.csv')"
   ]
  },
  {
   "cell_type": "code",
   "execution_count": null,
   "id": "ef85ca08-1489-4b9f-8304-56eb7cbf228d",
   "metadata": {},
   "outputs": [],
   "source": []
  }
 ],
 "metadata": {
  "kernelspec": {
   "display_name": "vllm",
   "language": "python",
   "name": "vllm"
  },
  "language_info": {
   "codemirror_mode": {
    "name": "ipython",
    "version": 3
   },
   "file_extension": ".py",
   "mimetype": "text/x-python",
   "name": "python",
   "nbconvert_exporter": "python",
   "pygments_lexer": "ipython3",
   "version": "3.10.13"
  }
 },
 "nbformat": 4,
 "nbformat_minor": 5
}
