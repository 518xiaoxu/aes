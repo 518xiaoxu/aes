{
 "cells": [
  {
   "cell_type": "code",
   "execution_count": 13,
   "id": "082236bc-ebd4-4308-a369-ec6f3f8069b5",
   "metadata": {},
   "outputs": [
    {
     "name": "stdout",
     "output_type": "stream",
     "text": [
      "fold\n",
      "0    3462\n",
      "1    3462\n",
      "3    3461\n",
      "4    3461\n",
      "2    3461\n",
      "Name: count, dtype: int64\n"
     ]
    }
   ],
   "source": [
    "import pandas as pd\n",
    "import os\n",
    "from sklearn.model_selection import StratifiedKFold, GroupKFold, KFold\n",
    "train=pd.read_csv('../../data/AES/train_ori.csv')\n",
    "train = train.reset_index(drop=True)\n",
    "train['fold'] = 0\n",
    "skf = StratifiedKFold(n_splits=5, random_state=2025, shuffle=True)\n",
    "for fold, (train_index, test_index) in enumerate(skf.split(train, train['score'].values)):\n",
    "    train.loc[test_index, 'fold'] = fold\n",
    "print(train['fold'].value_counts())\n",
    "for fold in range(5):\n",
    "    tra = train[train['fold'] != fold]\n",
    "    dev = train[train['fold'] == fold]\n",
    "    folder_path = f'../../data/AES/fold{fold}/'\n",
    "    os.makedirs(folder_path, exist_ok=True) \n",
    "    tra.to_csv(os.path.join(folder_path, 'train.csv'), index=False)\n",
    "    dev.to_csv(os.path.join(folder_path, 'val.csv'), index=False)"
   ]
  },
  {
   "cell_type": "code",
   "execution_count": 15,
   "id": "a2076365-7d4b-48a3-8683-a4f2a7344f9c",
   "metadata": {},
   "outputs": [
    {
     "data": {
      "text/plain": [
       "Index(['essay_id', 'full_text', 'score', 'fold'], dtype='object')"
      ]
     },
     "execution_count": 15,
     "metadata": {},
     "output_type": "execute_result"
    }
   ],
   "source": [
    "train.columns"
   ]
  },
  {
   "cell_type": "code",
   "execution_count": 30,
   "id": "35e6417d-1abc-4664-9150-9a213ef1f3f9",
   "metadata": {},
   "outputs": [],
   "source": [
    "import pandas as pd\n",
    "from utils.message import *\n",
    "from utils.prompt import *\n",
    "import json\n",
    "import os\n",
    "input_dir='../../data/AES/fold0/val_Qwen2.5-72B-Instruct.csv'\n",
    "type_name='train' if 'train' in input_dir else 'val'\n",
    "df=pd.read_csv(input_dir)\n",
    "fold_name=input_dir.split('/')[-2]\n",
    "df['pred_gt']=df['pred_gt'].apply(lambda x:str(x))\n",
    "df['score']=df['score'].apply(lambda x:str(x))\n",
    "df=df[df['pred_gt']==df['score']]"
   ]
  },
  {
   "cell_type": "code",
   "execution_count": 31,
   "id": "83f98820-d553-4857-b94d-7547bdfbe560",
   "metadata": {},
   "outputs": [],
   "source": [
    "humans = df['truncated_text'].tolist()\n",
    "gpts = df['reason_gt'].tolist()"
   ]
  },
  {
   "cell_type": "code",
   "execution_count": 32,
   "id": "487afbb9-f040-4435-bd89-d29c2a5e5ce1",
   "metadata": {},
   "outputs": [
    {
     "name": "stdout",
     "output_type": "stream",
     "text": [
      "✅ message 已保存到: /mnt/afs1/panhaojun/project/LLaMA-Factory/data/aes_val_fold0.json\n"
     ]
    }
   ],
   "source": [
    "messages = create_sft_dataset(system_cot_infer,humans,gpts)\n",
    "output_path = f\"/mnt/afs1/panhaojun/project/LLaMA-Factory/data/aes_{type_name}_{fold_name}.json\"\n",
    "# os.makedirs(os.path.dirname(output_path), exist_ok=True)\n",
    "with open(output_path, 'w', encoding='utf-8') as f:\n",
    "    json.dump(messages, f, ensure_ascii=False, indent=2)\n",
    "print(f\"✅ message 已保存到: {output_path}\")"
   ]
  },
  {
   "cell_type": "code",
   "execution_count": 34,
   "id": "74a85221-8077-4bdb-87e3-9b244c2c1cb3",
   "metadata": {},
   "outputs": [],
   "source": [
    "dataset_name=output_path.split('/')[-1].replace('.json','')"
   ]
  },
  {
   "cell_type": "code",
   "execution_count": 35,
   "id": "61a24242-04d8-4c77-b802-060cf145a566",
   "metadata": {},
   "outputs": [
    {
     "data": {
      "text/plain": [
       "'aes_val_fold0'"
      ]
     },
     "execution_count": 35,
     "metadata": {},
     "output_type": "execute_result"
    }
   ],
   "source": [
    "dataset_name"
   ]
  },
  {
   "cell_type": "code",
   "execution_count": 36,
   "id": "ddd66ae2-0110-4034-87c3-6f68c0ab5fc1",
   "metadata": {},
   "outputs": [
    {
     "name": "stdout",
     "output_type": "stream",
     "text": [
      "✅ dataset_info['aes_val_fold0'] 已成功添加并保存到 /mnt/afs1/panhaojun/project/LLaMA-Factory/data/dataset_info.json\n"
     ]
    }
   ],
   "source": [
    "# 加载已有的 JSON 文件\n",
    "    \n",
    "dataset_info_path='/mnt/afs1/panhaojun/project/LLaMA-Factory/data/dataset_info.json'\n",
    "if os.path.exists(dataset_info_path):\n",
    "    with open(dataset_info_path, \"r\", encoding=\"utf-8\") as f:\n",
    "        dataset_info = json.load(f)\n",
    "\n",
    "# 添加新的字段\n",
    "dataset_info[dataset_name] = {\n",
    "    \"file_name\": f\"{dataset_name}.json\",\n",
    "    \"formatting\": \"sharegpt\",\n",
    "    \"columns\": {\n",
    "        \"messages\": \"conversations\",\n",
    "        \"system\": \"system\",\n",
    "    }\n",
    "}\n",
    "\n",
    "# 保存回原文件\n",
    "with open(dataset_info_path, \"w\", encoding=\"utf-8\") as f:\n",
    "    json.dump(dataset_info, f, ensure_ascii=False, indent=2)\n",
    "\n",
    "print(f\"✅ dataset_info['{dataset_name}'] 已成功添加并保存到 {dataset_info_path}\")\n"
   ]
  },
  {
   "cell_type": "code",
   "execution_count": 29,
   "id": "590850d9-8b93-4803-b2f3-e9c396562f4c",
   "metadata": {},
   "outputs": [
    {
     "data": {
      "text/plain": [
       "'aes_train_fold0'"
      ]
     },
     "execution_count": 29,
     "metadata": {},
     "output_type": "execute_result"
    }
   ],
   "source": [
    "dataset_name"
   ]
  },
  {
   "cell_type": "code",
   "execution_count": 37,
   "id": "1c698675-8136-4de2-81a2-6c198b157562",
   "metadata": {},
   "outputs": [
    {
     "name": "stdout",
     "output_type": "stream",
     "text": [
      "✅ message 已保存到: /mnt/afs1/panhaojun/project/LLaMA-Factory/data/aes_train_fold0.json\n",
      "✅ dataset_info['aes_train_fold0'] 已成功添加并保存到 /mnt/afs1/panhaojun/project/LLaMA-Factory/data/dataset_info.json\n",
      "✅ message 已保存到: /mnt/afs1/panhaojun/project/LLaMA-Factory/data/aes_train_fold1.json\n",
      "✅ dataset_info['aes_train_fold1'] 已成功添加并保存到 /mnt/afs1/panhaojun/project/LLaMA-Factory/data/dataset_info.json\n",
      "✅ message 已保存到: /mnt/afs1/panhaojun/project/LLaMA-Factory/data/aes_train_fold2.json\n",
      "✅ dataset_info['aes_train_fold2'] 已成功添加并保存到 /mnt/afs1/panhaojun/project/LLaMA-Factory/data/dataset_info.json\n",
      "✅ message 已保存到: /mnt/afs1/panhaojun/project/LLaMA-Factory/data/aes_train_fold3.json\n",
      "✅ dataset_info['aes_train_fold3'] 已成功添加并保存到 /mnt/afs1/panhaojun/project/LLaMA-Factory/data/dataset_info.json\n",
      "✅ message 已保存到: /mnt/afs1/panhaojun/project/LLaMA-Factory/data/aes_train_fold4.json\n",
      "✅ dataset_info['aes_train_fold4'] 已成功添加并保存到 /mnt/afs1/panhaojun/project/LLaMA-Factory/data/dataset_info.json\n",
      "✅ message 已保存到: /mnt/afs1/panhaojun/project/LLaMA-Factory/data/aes_val_fold0.json\n",
      "✅ dataset_info['aes_val_fold0'] 已成功添加并保存到 /mnt/afs1/panhaojun/project/LLaMA-Factory/data/dataset_info.json\n",
      "✅ message 已保存到: /mnt/afs1/panhaojun/project/LLaMA-Factory/data/aes_val_fold1.json\n",
      "✅ dataset_info['aes_val_fold1'] 已成功添加并保存到 /mnt/afs1/panhaojun/project/LLaMA-Factory/data/dataset_info.json\n",
      "✅ message 已保存到: /mnt/afs1/panhaojun/project/LLaMA-Factory/data/aes_val_fold2.json\n",
      "✅ dataset_info['aes_val_fold2'] 已成功添加并保存到 /mnt/afs1/panhaojun/project/LLaMA-Factory/data/dataset_info.json\n",
      "✅ message 已保存到: /mnt/afs1/panhaojun/project/LLaMA-Factory/data/aes_val_fold3.json\n",
      "✅ dataset_info['aes_val_fold3'] 已成功添加并保存到 /mnt/afs1/panhaojun/project/LLaMA-Factory/data/dataset_info.json\n",
      "✅ message 已保存到: /mnt/afs1/panhaojun/project/LLaMA-Factory/data/aes_val_fold4.json\n",
      "✅ dataset_info['aes_val_fold4'] 已成功添加并保存到 /mnt/afs1/panhaojun/project/LLaMA-Factory/data/dataset_info.json\n"
     ]
    }
   ],
   "source": []
  },
  {
   "cell_type": "code",
   "execution_count": null,
   "id": "85a913f5-0174-4658-878a-12a6c107d749",
   "metadata": {},
   "outputs": [],
   "source": []
  }
 ],
 "metadata": {
  "kernelspec": {
   "display_name": "vllm",
   "language": "python",
   "name": "vllm"
  },
  "language_info": {
   "codemirror_mode": {
    "name": "ipython",
    "version": 3
   },
   "file_extension": ".py",
   "mimetype": "text/x-python",
   "name": "python",
   "nbconvert_exporter": "python",
   "pygments_lexer": "ipython3",
   "version": "3.10.13"
  }
 },
 "nbformat": 4,
 "nbformat_minor": 5
}
