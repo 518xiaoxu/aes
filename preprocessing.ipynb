{
 "cells": [
  {
   "cell_type": "code",
   "execution_count": 13,
   "id": "082236bc-ebd4-4308-a369-ec6f3f8069b5",
   "metadata": {},
   "outputs": [
    {
     "name": "stdout",
     "output_type": "stream",
     "text": [
      "fold\n",
      "0    3462\n",
      "1    3462\n",
      "3    3461\n",
      "4    3461\n",
      "2    3461\n",
      "Name: count, dtype: int64\n"
     ]
    }
   ],
   "source": [
    "import pandas as pd\n",
    "import os\n",
    "from sklearn.model_selection import StratifiedKFold, GroupKFold, KFold\n",
    "train=pd.read_csv('../../data/AES/train_ori.csv')\n",
    "train = train.reset_index(drop=True)\n",
    "train['fold'] = 0\n",
    "skf = StratifiedKFold(n_splits=5, random_state=2025, shuffle=True)\n",
    "for fold, (train_index, test_index) in enumerate(skf.split(train, train['score'].values)):\n",
    "    train.loc[test_index, 'fold'] = fold\n",
    "print(train['fold'].value_counts())\n",
    "for fold in range(5):\n",
    "    tra = train[train['fold'] != fold]\n",
    "    dev = train[train['fold'] == fold]\n",
    "    folder_path = f'../../data/AES/fold{fold}/'\n",
    "    os.makedirs(folder_path, exist_ok=True) \n",
    "    tra.to_csv(os.path.join(folder_path, 'train.csv'), index=False)\n",
    "    dev.to_csv(os.path.join(folder_path, 'val.csv'), index=False)"
   ]
  },
  {
   "cell_type": "code",
   "execution_count": 15,
   "id": "a2076365-7d4b-48a3-8683-a4f2a7344f9c",
   "metadata": {},
   "outputs": [
    {
     "data": {
      "text/plain": [
       "Index(['essay_id', 'full_text', 'score', 'fold'], dtype='object')"
      ]
     },
     "execution_count": 15,
     "metadata": {},
     "output_type": "execute_result"
    }
   ],
   "source": [
    "train.columns"
   ]
  },
  {
   "cell_type": "code",
   "execution_count": null,
   "id": "35e6417d-1abc-4664-9150-9a213ef1f3f9",
   "metadata": {},
   "outputs": [],
   "source": []
  }
 ],
 "metadata": {
  "kernelspec": {
   "display_name": "vllm",
   "language": "python",
   "name": "vllm"
  },
  "language_info": {
   "codemirror_mode": {
    "name": "ipython",
    "version": 3
   },
   "file_extension": ".py",
   "mimetype": "text/x-python",
   "name": "python",
   "nbconvert_exporter": "python",
   "pygments_lexer": "ipython3",
   "version": "3.10.13"
  }
 },
 "nbformat": 4,
 "nbformat_minor": 5
}
